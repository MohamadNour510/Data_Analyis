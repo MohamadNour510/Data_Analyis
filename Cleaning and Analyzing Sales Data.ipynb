{
 "cells": [
  {
   "cell_type": "code",
   "execution_count": 102,
   "metadata": {},
   "outputs": [],
   "source": [
    "import numpy as np \n",
    "import pandas as pd\n",
    "import matplotlib.pyplot as plt"
   ]
  },
  {
   "cell_type": "markdown",
   "metadata": {},
   "source": [
    "You have a dataset containing sales information, but it has missing values and incorrect data. Your task is to:\n",
    "\n",
    "Load the data from a CSV file.\n",
    "\n",
    "Handle missing values appropriately.\n",
    "\n",
    "Fix incorrect data entries.\n",
    "\n",
    "Convert some columns to the correct format.\n",
    "\n",
    "Add a new column based on calculations.\n",
    "\n",
    "Perform basic analysis on the dataset."
   ]
  },
  {
   "cell_type": "code",
   "execution_count": 103,
   "metadata": {},
   "outputs": [
    {
     "data": {
      "text/html": [
       "<div>\n",
       "<style scoped>\n",
       "    .dataframe tbody tr th:only-of-type {\n",
       "        vertical-align: middle;\n",
       "    }\n",
       "\n",
       "    .dataframe tbody tr th {\n",
       "        vertical-align: top;\n",
       "    }\n",
       "\n",
       "    .dataframe thead th {\n",
       "        text-align: right;\n",
       "    }\n",
       "</style>\n",
       "<table border=\"1\" class=\"dataframe\">\n",
       "  <thead>\n",
       "    <tr style=\"text-align: right;\">\n",
       "      <th></th>\n",
       "      <th>OrderID</th>\n",
       "      <th>Product</th>\n",
       "      <th>Category</th>\n",
       "      <th>Price</th>\n",
       "      <th>Quantity</th>\n",
       "      <th>Total</th>\n",
       "      <th>Date</th>\n",
       "      <th>Customer</th>\n",
       "      <th>Payment_Method</th>\n",
       "    </tr>\n",
       "  </thead>\n",
       "  <tbody>\n",
       "    <tr>\n",
       "      <th>0</th>\n",
       "      <td>101</td>\n",
       "      <td>Laptop</td>\n",
       "      <td>Electronics</td>\n",
       "      <td>1200.0</td>\n",
       "      <td>2</td>\n",
       "      <td>NaN</td>\n",
       "      <td>2024-01-05</td>\n",
       "      <td>Ali</td>\n",
       "      <td>Credit Card</td>\n",
       "    </tr>\n",
       "    <tr>\n",
       "      <th>1</th>\n",
       "      <td>102</td>\n",
       "      <td>Phone</td>\n",
       "      <td>Electronics</td>\n",
       "      <td>800.0</td>\n",
       "      <td>1</td>\n",
       "      <td>NaN</td>\n",
       "      <td>2024-01-06</td>\n",
       "      <td>Omar</td>\n",
       "      <td>PayPal</td>\n",
       "    </tr>\n",
       "    <tr>\n",
       "      <th>2</th>\n",
       "      <td>103</td>\n",
       "      <td>TV</td>\n",
       "      <td>Electronics</td>\n",
       "      <td>NaN</td>\n",
       "      <td>1</td>\n",
       "      <td>NaN</td>\n",
       "      <td>2024-01-07</td>\n",
       "      <td>Mohammed</td>\n",
       "      <td>Cash</td>\n",
       "    </tr>\n",
       "    <tr>\n",
       "      <th>3</th>\n",
       "      <td>104</td>\n",
       "      <td>Shoes</td>\n",
       "      <td>Fashion</td>\n",
       "      <td>100.0</td>\n",
       "      <td>2</td>\n",
       "      <td>NaN</td>\n",
       "      <td>2024-01-08</td>\n",
       "      <td>Sara</td>\n",
       "      <td>Credit Card</td>\n",
       "    </tr>\n",
       "    <tr>\n",
       "      <th>4</th>\n",
       "      <td>105</td>\n",
       "      <td>NaN</td>\n",
       "      <td>Fashion</td>\n",
       "      <td>50.0</td>\n",
       "      <td>3</td>\n",
       "      <td>NaN</td>\n",
       "      <td>2024-01-09</td>\n",
       "      <td>Aisha</td>\n",
       "      <td>PayPal</td>\n",
       "    </tr>\n",
       "    <tr>\n",
       "      <th>5</th>\n",
       "      <td>106</td>\n",
       "      <td>Watch</td>\n",
       "      <td>Accessories</td>\n",
       "      <td>200.0</td>\n",
       "      <td>1</td>\n",
       "      <td>200.0</td>\n",
       "      <td>2024-01-10</td>\n",
       "      <td>Hassan</td>\n",
       "      <td>Cash</td>\n",
       "    </tr>\n",
       "  </tbody>\n",
       "</table>\n",
       "</div>"
      ],
      "text/plain": [
       "   OrderID Product     Category   Price  Quantity  Total        Date  \\\n",
       "0      101  Laptop  Electronics  1200.0         2    NaN  2024-01-05   \n",
       "1      102   Phone  Electronics   800.0         1    NaN  2024-01-06   \n",
       "2      103      TV  Electronics     NaN         1    NaN  2024-01-07   \n",
       "3      104   Shoes      Fashion   100.0         2    NaN  2024-01-08   \n",
       "4      105     NaN      Fashion    50.0         3    NaN  2024-01-09   \n",
       "5      106   Watch  Accessories   200.0         1  200.0  2024-01-10   \n",
       "\n",
       "   Customer Payment_Method  \n",
       "0       Ali    Credit Card  \n",
       "1      Omar         PayPal  \n",
       "2  Mohammed           Cash  \n",
       "3      Sara    Credit Card  \n",
       "4     Aisha         PayPal  \n",
       "5    Hassan           Cash  "
      ]
     },
     "execution_count": 103,
     "metadata": {},
     "output_type": "execute_result"
    }
   ],
   "source": [
    "df=pd.read_csv(\"sales.csv\")\n",
    "\n",
    "\n",
    "df"
   ]
  },
  {
   "cell_type": "markdown",
   "metadata": {},
   "source": [
    "🛠 2. Data Cleaning\n",
    "Fill missing values in Total by calculating (Price * Quantity).\n",
    "\n",
    "Replace missing values in Product with \"Unknown\" or a suitable value."
   ]
  },
  {
   "cell_type": "code",
   "execution_count": 104,
   "metadata": {},
   "outputs": [],
   "source": [
    "df[\"Total\"]=df[\"Price\"]*df[\"Quantity\"]\n",
    "\n",
    "df[\"Total\"]=df[\"Total\"].replace(np.nan,0)\n",
    "\n",
    "# Replace missing Product names\n",
    "df[\"Product\"] = df[\"Product\"].fillna(\"Unknown\")\n",
    "\n",
    "\n",
    "df[\"Product\"]=df[\"Product\"].fillna(\"newProduct\")"
   ]
  },
  {
   "cell_type": "code",
   "execution_count": 107,
   "metadata": {},
   "outputs": [],
   "source": [
    "\n",
    "df[\"Price\"]=df[\"Price\"].astype(\"float\")\n",
    "\n"
   ]
  },
  {
   "cell_type": "code",
   "execution_count": 108,
   "metadata": {},
   "outputs": [],
   "source": [
    "# Fill missing Price values with category-wise mean\n",
    "\n",
    "df[\"Price\"] = df.groupby(\"Category\")[\"Price\"].transform(lambda x: x.fillna(x.mean()))\n",
    "\n"
   ]
  },
  {
   "cell_type": "code",
   "execution_count": 109,
   "metadata": {},
   "outputs": [],
   "source": [
    "# Convert Date column to datetime\n",
    "\n",
    "df[\"Date\"]=pd.to_datetime(df[\"Date\"])"
   ]
  },
  {
   "cell_type": "code",
   "execution_count": 110,
   "metadata": {},
   "outputs": [
    {
     "data": {
      "text/plain": [
       "0   2024-01-05\n",
       "1   2024-01-06\n",
       "2   2024-01-07\n",
       "3   2024-01-08\n",
       "4   2024-01-09\n",
       "5   2024-01-10\n",
       "Name: Date, dtype: datetime64[ns]"
      ]
     },
     "execution_count": 110,
     "metadata": {},
     "output_type": "execute_result"
    }
   ],
   "source": [
    "df[\"Date\"]"
   ]
  },
  {
   "cell_type": "code",
   "execution_count": 111,
   "metadata": {},
   "outputs": [],
   "source": [
    "category_sales=df.groupby(\"Category\")[\"Total\"].sum()\n",
    "\n"
   ]
  },
  {
   "cell_type": "code",
   "execution_count": 112,
   "metadata": {},
   "outputs": [
    {
     "data": {
      "text/plain": [
       "'Unknown'"
      ]
     },
     "execution_count": 112,
     "metadata": {},
     "output_type": "execute_result"
    }
   ],
   "source": [
    "best_selling_product = df.groupby(\"Product\")[\"Quantity\"].sum().idxmax()\n",
    "best_selling_product\n"
   ]
  },
  {
   "cell_type": "code",
   "execution_count": 113,
   "metadata": {},
   "outputs": [
    {
     "data": {
      "text/html": [
       "<div>\n",
       "<style scoped>\n",
       "    .dataframe tbody tr th:only-of-type {\n",
       "        vertical-align: middle;\n",
       "    }\n",
       "\n",
       "    .dataframe tbody tr th {\n",
       "        vertical-align: top;\n",
       "    }\n",
       "\n",
       "    .dataframe thead th {\n",
       "        text-align: right;\n",
       "    }\n",
       "</style>\n",
       "<table border=\"1\" class=\"dataframe\">\n",
       "  <thead>\n",
       "    <tr style=\"text-align: right;\">\n",
       "      <th></th>\n",
       "      <th>OrderID</th>\n",
       "      <th>Product</th>\n",
       "      <th>Category</th>\n",
       "      <th>Price</th>\n",
       "      <th>Quantity</th>\n",
       "      <th>Total</th>\n",
       "      <th>Date</th>\n",
       "      <th>Customer</th>\n",
       "      <th>Payment_Method</th>\n",
       "    </tr>\n",
       "  </thead>\n",
       "  <tbody>\n",
       "    <tr>\n",
       "      <th>0</th>\n",
       "      <td>101</td>\n",
       "      <td>Laptop</td>\n",
       "      <td>Electronics</td>\n",
       "      <td>1200.0</td>\n",
       "      <td>2</td>\n",
       "      <td>2400.0</td>\n",
       "      <td>2024-01-05</td>\n",
       "      <td>Ali</td>\n",
       "      <td>Credit Card</td>\n",
       "    </tr>\n",
       "    <tr>\n",
       "      <th>1</th>\n",
       "      <td>102</td>\n",
       "      <td>Phone</td>\n",
       "      <td>Electronics</td>\n",
       "      <td>800.0</td>\n",
       "      <td>1</td>\n",
       "      <td>800.0</td>\n",
       "      <td>2024-01-06</td>\n",
       "      <td>Omar</td>\n",
       "      <td>PayPal</td>\n",
       "    </tr>\n",
       "    <tr>\n",
       "      <th>2</th>\n",
       "      <td>103</td>\n",
       "      <td>TV</td>\n",
       "      <td>Electronics</td>\n",
       "      <td>1000.0</td>\n",
       "      <td>1</td>\n",
       "      <td>0.0</td>\n",
       "      <td>2024-01-07</td>\n",
       "      <td>Mohammed</td>\n",
       "      <td>Cash</td>\n",
       "    </tr>\n",
       "    <tr>\n",
       "      <th>3</th>\n",
       "      <td>104</td>\n",
       "      <td>Shoes</td>\n",
       "      <td>Fashion</td>\n",
       "      <td>100.0</td>\n",
       "      <td>2</td>\n",
       "      <td>200.0</td>\n",
       "      <td>2024-01-08</td>\n",
       "      <td>Sara</td>\n",
       "      <td>Credit Card</td>\n",
       "    </tr>\n",
       "    <tr>\n",
       "      <th>4</th>\n",
       "      <td>105</td>\n",
       "      <td>Unknown</td>\n",
       "      <td>Fashion</td>\n",
       "      <td>50.0</td>\n",
       "      <td>3</td>\n",
       "      <td>150.0</td>\n",
       "      <td>2024-01-09</td>\n",
       "      <td>Aisha</td>\n",
       "      <td>PayPal</td>\n",
       "    </tr>\n",
       "    <tr>\n",
       "      <th>5</th>\n",
       "      <td>106</td>\n",
       "      <td>Watch</td>\n",
       "      <td>Accessories</td>\n",
       "      <td>200.0</td>\n",
       "      <td>1</td>\n",
       "      <td>200.0</td>\n",
       "      <td>2024-01-10</td>\n",
       "      <td>Hassan</td>\n",
       "      <td>Cash</td>\n",
       "    </tr>\n",
       "  </tbody>\n",
       "</table>\n",
       "</div>"
      ],
      "text/plain": [
       "   OrderID  Product     Category   Price  Quantity   Total       Date  \\\n",
       "0      101   Laptop  Electronics  1200.0         2  2400.0 2024-01-05   \n",
       "1      102    Phone  Electronics   800.0         1   800.0 2024-01-06   \n",
       "2      103       TV  Electronics  1000.0         1     0.0 2024-01-07   \n",
       "3      104    Shoes      Fashion   100.0         2   200.0 2024-01-08   \n",
       "4      105  Unknown      Fashion    50.0         3   150.0 2024-01-09   \n",
       "5      106    Watch  Accessories   200.0         1   200.0 2024-01-10   \n",
       "\n",
       "   Customer Payment_Method  \n",
       "0       Ali    Credit Card  \n",
       "1      Omar         PayPal  \n",
       "2  Mohammed           Cash  \n",
       "3      Sara    Credit Card  \n",
       "4     Aisha         PayPal  \n",
       "5    Hassan           Cash  "
      ]
     },
     "execution_count": 113,
     "metadata": {},
     "output_type": "execute_result"
    }
   ],
   "source": [
    "df"
   ]
  },
  {
   "cell_type": "code",
   "execution_count": 119,
   "metadata": {},
   "outputs": [
    {
     "data": {
      "text/plain": [
       "Payment_Method\n",
       "Credit Card    33.333333\n",
       "PayPal         33.333333\n",
       "Cash           33.333333\n",
       "Name: proportion, dtype: float64"
      ]
     },
     "execution_count": 119,
     "metadata": {},
     "output_type": "execute_result"
    }
   ],
   "source": [
    "payment_method_distribution = df[\"Payment_Method\"].value_counts(normalize=True) * 100\n",
    "\n",
    "payment_method_distribution"
   ]
  },
  {
   "cell_type": "code",
   "execution_count": null,
   "metadata": {},
   "outputs": [],
   "source": []
  },
  {
   "cell_type": "code",
   "execution_count": null,
   "metadata": {},
   "outputs": [],
   "source": []
  }
 ],
 "metadata": {
  "kernelspec": {
   "display_name": "base",
   "language": "python",
   "name": "python3"
  },
  "language_info": {
   "codemirror_mode": {
    "name": "ipython",
    "version": 3
   },
   "file_extension": ".py",
   "mimetype": "text/x-python",
   "name": "python",
   "nbconvert_exporter": "python",
   "pygments_lexer": "ipython3",
   "version": "3.12.7"
  }
 },
 "nbformat": 4,
 "nbformat_minor": 2
}
